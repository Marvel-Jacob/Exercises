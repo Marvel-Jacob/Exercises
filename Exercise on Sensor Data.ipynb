{
 "cells": [
  {
   "cell_type": "code",
   "execution_count": 16,
   "metadata": {},
   "outputs": [],
   "source": [
    "import pandas as pd\n",
    "from sklearn.preprocessing import StandardScaler\n",
    "import numpy as np\n",
    "import matplotlib.pyplot as plt\n",
    "from sklearn.decomposition import PCA"
   ]
  },
  {
   "cell_type": "code",
   "execution_count": 4,
   "metadata": {},
   "outputs": [
    {
     "name": "stdout",
     "output_type": "stream",
     "text": [
      "(1010, 50)\n"
     ]
    },
    {
     "data": {
      "text/html": [
       "<div>\n",
       "<style scoped>\n",
       "    .dataframe tbody tr th:only-of-type {\n",
       "        vertical-align: middle;\n",
       "    }\n",
       "\n",
       "    .dataframe tbody tr th {\n",
       "        vertical-align: top;\n",
       "    }\n",
       "\n",
       "    .dataframe thead th {\n",
       "        text-align: right;\n",
       "    }\n",
       "</style>\n",
       "<table border=\"1\" class=\"dataframe\">\n",
       "  <thead>\n",
       "    <tr style=\"text-align: right;\">\n",
       "      <th></th>\n",
       "      <th>Sensor1</th>\n",
       "      <th>Sensor2</th>\n",
       "      <th>Sensor3</th>\n",
       "      <th>Sensor4</th>\n",
       "      <th>Sensor5</th>\n",
       "      <th>Sensor6</th>\n",
       "      <th>Sensor7</th>\n",
       "      <th>Sensor8</th>\n",
       "      <th>Sensor9</th>\n",
       "      <th>Sensor10</th>\n",
       "      <th>...</th>\n",
       "      <th>Sensor41</th>\n",
       "      <th>Sensor42</th>\n",
       "      <th>Sensor43</th>\n",
       "      <th>Sensor44</th>\n",
       "      <th>Sensor45</th>\n",
       "      <th>Sensor46</th>\n",
       "      <th>Sensor47</th>\n",
       "      <th>Sensor48</th>\n",
       "      <th>Sensor49</th>\n",
       "      <th>Sensor50</th>\n",
       "    </tr>\n",
       "  </thead>\n",
       "  <tbody>\n",
       "    <tr>\n",
       "      <th>0</th>\n",
       "      <td>23.33984</td>\n",
       "      <td>23.33984</td>\n",
       "      <td>23.63281</td>\n",
       "      <td>23.63281</td>\n",
       "      <td>23.53516</td>\n",
       "      <td>23.33984</td>\n",
       "      <td>22.94922</td>\n",
       "      <td>23.04688</td>\n",
       "      <td>23.14453</td>\n",
       "      <td>23.14453</td>\n",
       "      <td>...</td>\n",
       "      <td>23.53516</td>\n",
       "      <td>23.14453</td>\n",
       "      <td>23.24219</td>\n",
       "      <td>23.53516</td>\n",
       "      <td>23.73047</td>\n",
       "      <td>23.63281</td>\n",
       "      <td>23.43750</td>\n",
       "      <td>22.94922</td>\n",
       "      <td>22.94922</td>\n",
       "      <td>23.04688</td>\n",
       "    </tr>\n",
       "    <tr>\n",
       "      <th>1</th>\n",
       "      <td>23.33984</td>\n",
       "      <td>23.33984</td>\n",
       "      <td>23.73047</td>\n",
       "      <td>23.63281</td>\n",
       "      <td>23.53516</td>\n",
       "      <td>23.43750</td>\n",
       "      <td>23.04688</td>\n",
       "      <td>23.14453</td>\n",
       "      <td>23.24219</td>\n",
       "      <td>23.24219</td>\n",
       "      <td>...</td>\n",
       "      <td>23.43750</td>\n",
       "      <td>23.14453</td>\n",
       "      <td>23.14453</td>\n",
       "      <td>23.53516</td>\n",
       "      <td>23.73047</td>\n",
       "      <td>23.63281</td>\n",
       "      <td>23.53516</td>\n",
       "      <td>23.04688</td>\n",
       "      <td>22.94922</td>\n",
       "      <td>23.04688</td>\n",
       "    </tr>\n",
       "    <tr>\n",
       "      <th>2</th>\n",
       "      <td>23.43750</td>\n",
       "      <td>23.43750</td>\n",
       "      <td>23.63281</td>\n",
       "      <td>23.63281</td>\n",
       "      <td>23.53516</td>\n",
       "      <td>23.33984</td>\n",
       "      <td>22.94922</td>\n",
       "      <td>23.14453</td>\n",
       "      <td>23.24219</td>\n",
       "      <td>23.24219</td>\n",
       "      <td>...</td>\n",
       "      <td>23.53516</td>\n",
       "      <td>23.24219</td>\n",
       "      <td>23.24219</td>\n",
       "      <td>23.63281</td>\n",
       "      <td>23.73047</td>\n",
       "      <td>23.73047</td>\n",
       "      <td>23.53516</td>\n",
       "      <td>23.24219</td>\n",
       "      <td>23.04688</td>\n",
       "      <td>23.04688</td>\n",
       "    </tr>\n",
       "    <tr>\n",
       "      <th>3</th>\n",
       "      <td>23.33984</td>\n",
       "      <td>23.33984</td>\n",
       "      <td>23.63281</td>\n",
       "      <td>23.63281</td>\n",
       "      <td>23.53516</td>\n",
       "      <td>23.33984</td>\n",
       "      <td>22.94922</td>\n",
       "      <td>23.14453</td>\n",
       "      <td>23.24219</td>\n",
       "      <td>23.24219</td>\n",
       "      <td>...</td>\n",
       "      <td>23.53516</td>\n",
       "      <td>23.14453</td>\n",
       "      <td>23.33984</td>\n",
       "      <td>23.63281</td>\n",
       "      <td>23.73047</td>\n",
       "      <td>23.73047</td>\n",
       "      <td>23.43750</td>\n",
       "      <td>23.04688</td>\n",
       "      <td>23.04688</td>\n",
       "      <td>23.04688</td>\n",
       "    </tr>\n",
       "    <tr>\n",
       "      <th>4</th>\n",
       "      <td>23.43750</td>\n",
       "      <td>23.43750</td>\n",
       "      <td>23.73047</td>\n",
       "      <td>23.73047</td>\n",
       "      <td>23.63281</td>\n",
       "      <td>23.43750</td>\n",
       "      <td>23.04688</td>\n",
       "      <td>23.24219</td>\n",
       "      <td>23.24219</td>\n",
       "      <td>23.24219</td>\n",
       "      <td>...</td>\n",
       "      <td>23.53516</td>\n",
       "      <td>23.24219</td>\n",
       "      <td>23.33984</td>\n",
       "      <td>23.63281</td>\n",
       "      <td>23.73047</td>\n",
       "      <td>23.63281</td>\n",
       "      <td>23.53516</td>\n",
       "      <td>22.94922</td>\n",
       "      <td>23.04688</td>\n",
       "      <td>23.14453</td>\n",
       "    </tr>\n",
       "  </tbody>\n",
       "</table>\n",
       "<p>5 rows × 50 columns</p>\n",
       "</div>"
      ],
      "text/plain": [
       "    Sensor1   Sensor2   Sensor3   Sensor4   Sensor5   Sensor6   Sensor7  \\\n",
       "0  23.33984  23.33984  23.63281  23.63281  23.53516  23.33984  22.94922   \n",
       "1  23.33984  23.33984  23.73047  23.63281  23.53516  23.43750  23.04688   \n",
       "2  23.43750  23.43750  23.63281  23.63281  23.53516  23.33984  22.94922   \n",
       "3  23.33984  23.33984  23.63281  23.63281  23.53516  23.33984  22.94922   \n",
       "4  23.43750  23.43750  23.73047  23.73047  23.63281  23.43750  23.04688   \n",
       "\n",
       "    Sensor8   Sensor9  Sensor10    ...     Sensor41  Sensor42  Sensor43  \\\n",
       "0  23.04688  23.14453  23.14453    ...     23.53516  23.14453  23.24219   \n",
       "1  23.14453  23.24219  23.24219    ...     23.43750  23.14453  23.14453   \n",
       "2  23.14453  23.24219  23.24219    ...     23.53516  23.24219  23.24219   \n",
       "3  23.14453  23.24219  23.24219    ...     23.53516  23.14453  23.33984   \n",
       "4  23.24219  23.24219  23.24219    ...     23.53516  23.24219  23.33984   \n",
       "\n",
       "   Sensor44  Sensor45  Sensor46  Sensor47  Sensor48  Sensor49  Sensor50  \n",
       "0  23.53516  23.73047  23.63281  23.43750  22.94922  22.94922  23.04688  \n",
       "1  23.53516  23.73047  23.63281  23.53516  23.04688  22.94922  23.04688  \n",
       "2  23.63281  23.73047  23.73047  23.53516  23.24219  23.04688  23.04688  \n",
       "3  23.63281  23.73047  23.73047  23.43750  23.04688  23.04688  23.04688  \n",
       "4  23.63281  23.73047  23.63281  23.53516  22.94922  23.04688  23.14453  \n",
       "\n",
       "[5 rows x 50 columns]"
      ]
     },
     "execution_count": 4,
     "metadata": {},
     "output_type": "execute_result"
    }
   ],
   "source": [
    "url='https://raw.githubusercontent.com/skathirmani/datasets/master/data_pca.csv'\n",
    "data_pca=pd.read_csv(url)\n",
    "print(data_pca.shape)\n",
    "data_pca.head()"
   ]
  },
  {
   "cell_type": "code",
   "execution_count": 6,
   "metadata": {},
   "outputs": [],
   "source": [
    "scaler=StandardScaler()\n",
    "scaler.fit(data_pca)\n",
    "data_scaled=pd.DataFrame(scaler.transform(data_pca),columns=data_pca.columns)"
   ]
  },
  {
   "cell_type": "code",
   "execution_count": 8,
   "metadata": {},
   "outputs": [],
   "source": [
    "evalues,evectors=np.linalg.eig(data_scaled.corr())"
   ]
  },
  {
   "cell_type": "markdown",
   "metadata": {},
   "source": [
    "## Scree plot"
   ]
  },
  {
   "cell_type": "code",
   "execution_count": 15,
   "metadata": {},
   "outputs": [
    {
     "data": {
      "image/png": "[encoded data removed]",
      "text/plain": [
       "<Figure size 432x288 with 1 Axes>"
      ]
     },
     "metadata": {
      "needs_background": "light"
     },
     "output_type": "display_data"
    }
   ],
   "source": [
    "plt.plot(np.cumsum(evalues)/np.sum(evalues)*100)\n",
    "plt.xlabel('No. of principal components')\n",
    "plt.ylabel('Variance explained')\n",
    "plt.title('Scree Plot')\n",
    "plt.show()"
   ]
  },
  {
   "cell_type": "code",
   "execution_count": 18,
   "metadata": {},
   "outputs": [
    {
     "name": "stdout",
     "output_type": "stream",
     "text": [
      "[ 79.92623489  87.58198071  91.42307882  93.07300639  94.06657305\n",
      "  94.72166515  95.21760384  95.63392093  95.89836234  96.1374553\n",
      "  96.34234168  96.54519125  96.74313109  96.92541639  96.92541639\n",
      "  97.0953257   97.25209193  97.39997226  97.53852497  97.66978153\n",
      "  97.79400431  97.9157424   97.95174402  97.99070229  98.10483918\n",
      "  98.21609697  98.32604361  98.43433075  98.54000729  98.64371721\n",
      "  98.68668522  98.7319673   98.82807285  98.9208342   98.96807965\n",
      "  99.05593146  99.14074471  99.22304453  99.30296282  99.3818466\n",
      "  99.45569541  99.52557697  99.57795073  99.63181159  99.69782487\n",
      "  99.75537867  99.81422074  99.87427169  99.93661853 100.        ]\n"
     ]
    }
   ],
   "source": [
    "print(np.cumsum(evalues)/np.sum(evalues)*100)\n",
    "pca=PCA(n_components=7)\n",
    "pca.fit(data_scaled)\n",
    "pcs=pd.DataFrame(pca.transform(data_scaled))"
   ]
  },
  {
   "cell_type": "code",
   "execution_count": 25,
   "metadata": {},
   "outputs": [
    {
     "name": "stdout",
     "output_type": "stream",
     "text": [
      "44\n"
     ]
    }
   ],
   "source": [
    "a=[]\n",
    "for i in np.array(np.cumsum(evalues)/np.sum(evalues)*100):\n",
    "    a.append(i)\n",
    "c=0\n",
    "for i in a:\n",
    "    if i>=95:\n",
    "        c=c+1\n",
    "print(c)"
   ]
  },
  {
   "cell_type": "code",
   "execution_count": null,
   "metadata": {},
   "outputs": [],
   "source": []
  },
  {
   "cell_type": "code",
   "execution_count": null,
   "metadata": {},
   "outputs": [],
   "source": []
  },
  {
   "cell_type": "code",
   "execution_count": null,
   "metadata": {},
   "outputs": [],
   "source": []
  },
  {
   "cell_type": "code",
   "execution_count": null,
   "metadata": {},
   "outputs": [],
   "source": []
  },
  {
   "cell_type": "code",
   "execution_count": null,
   "metadata": {},
   "outputs": [],
   "source": []
  },
  {
   "cell_type": "code",
   "execution_count": null,
   "metadata": {},
   "outputs": [],
   "source": []
  },
  {
   "cell_type": "code",
   "execution_count": null,
   "metadata": {},
   "outputs": [],
   "source": []
  },
  {
   "cell_type": "code",
   "execution_count": null,
   "metadata": {},
   "outputs": [],
   "source": []
  },
  {
   "cell_type": "code",
   "execution_count": null,
   "metadata": {},
   "outputs": [],
   "source": []
  },
  {
   "cell_type": "code",
   "execution_count": null,
   "metadata": {},
   "outputs": [],
   "source": []
  },
  {
   "cell_type": "code",
   "execution_count": null,
   "metadata": {},
   "outputs": [],
   "source": []
  },
  {
   "cell_type": "code",
   "execution_count": null,
   "metadata": {},
   "outputs": [],
   "source": []
  },
  {
   "cell_type": "code",
   "execution_count": null,
   "metadata": {},
   "outputs": [],
   "source": []
  }
 ],
 "metadata": {
  "kernelspec": {
   "display_name": "Python 3",
   "language": "python",
   "name": "python3"
  },
  "language_info": {
   "codemirror_mode": {
    "name": "ipython",
    "version": 3
   },
   "file_extension": ".py",
   "mimetype": "text/x-python",
   "name": "python",
   "nbconvert_exporter": "python",
   "pygments_lexer": "ipython3",
   "version": "3.7.1"
  }
 },
 "nbformat": 4,
 "nbformat_minor": 2
}
