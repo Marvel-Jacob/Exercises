{
 "cells": [
  {
   "cell_type": "code",
   "execution_count": 1,
   "metadata": {},
   "outputs": [
    {
     "name": "stdout",
     "output_type": "stream",
     "text": [
      "1: 4\n",
      "2: 8\n",
      "3: 6\n",
      "4: 3\n",
      "5: 9\n",
      "The average is:  6.0\n"
     ]
    }
   ],
   "source": [
    "### 1.\tWrite a program to input 5 numbers and Find the average of 5 numbers\n",
    "try:\n",
    "    n1 = int(input(\"1: \"))\n",
    "    n2 = int(input(\"2: \"))\n",
    "    n3 = int(input(\"3: \"))\n",
    "    n4 = int(input(\"4: \"))\n",
    "    n5 = int(input(\"5: \"))\n",
    "    m1 = n1+n2+n3+n4+n5\n",
    "    m = m1/5\n",
    "    print(\"The average is: \",m)\n",
    "except:\n",
    "    print(\"Invalid Input\")"
   ]
  },
  {
   "cell_type": "code",
   "execution_count": 3,
   "metadata": {},
   "outputs": [
    {
     "name": "stdout",
     "output_type": "stream",
     "text": [
      "1  :4\n",
      "2  :5\n",
      "3  :6\n",
      "4  :3\n",
      "5  :9\n",
      "6 greater \n",
      "\n",
      "9 greater \n",
      "\n"
     ]
    }
   ],
   "source": [
    "# 2. Write a program to input 5 numbers and print numbers which are above the average\n",
    "try:\n",
    "    n1 = int(input(\"1  :\"))\n",
    "    n2 = int(input(\"2  :\"))\n",
    "    n3 = int(input(\"3  :\"))\n",
    "    n4 = int(input(\"4  :\"))\n",
    "    n5 = int(input(\"5  :\"))\n",
    "    m1 = n1+n2+n3+n4+n5\n",
    "    m = m1/5\n",
    "    if(n1>m):\n",
    "        print(str(n1)+\" greater \\n\" )\n",
    "    if(n2>m):\n",
    "        print(str(n2)+\" greater \\n\")\n",
    "    if(n3>m):\n",
    "        print(str(n3)+\" greater \\n\")\n",
    "    if(n4>m):\n",
    "        print(str(n4)+\" greater \\n\")\n",
    "    if(n5>m):\n",
    "        print(str(n5)+\" greater \\n\")\n",
    "except:\n",
    "    print(\"Invalid input\")"
   ]
  },
  {
   "cell_type": "code",
   "execution_count": 2,
   "metadata": {},
   "outputs": [
    {
     "name": "stdout",
     "output_type": "stream",
     "text": [
      "1: 6\n",
      "2: 9\n",
      "3: 4\n",
      "4: 7\n",
      "5: 2\n",
      "6 even \n",
      "\n",
      "4 even \n",
      "\n",
      "2 even \n",
      "\n"
     ]
    }
   ],
   "source": [
    "#3.Write a program to input 5 numbers and print even numbers\n",
    "try:\n",
    "    n1 = int(input(\"1: \"))\n",
    "    n2 = int(input(\"2: \"))\n",
    "    n3 = int(input(\"3: \"))\n",
    "    n4 = int(input(\"4: \"))\n",
    "    n5 = int(input(\"5: \"))\n",
    "    if(n1%2==0):\n",
    "        print(str(n1)+\" even \\n\" )\n",
    "    if(n2%2==0):\n",
    "        print(str(n2)+\" even \\n\")\n",
    "    if(n3%2==0):\n",
    "        print(str(n3)+\" even \\n\")\n",
    "    if(n4%2==0):\n",
    "        print(str(n4)+\" even \\n\")\n",
    "    if(n5%2==0):\n",
    "        print(str(n5)+\" even \\n\")\n",
    "except:\n",
    "    print(\"Invalid input\")"
   ]
  },
  {
   "cell_type": "code",
   "execution_count": 3,
   "metadata": {},
   "outputs": [
    {
     "name": "stdout",
     "output_type": "stream",
     "text": [
      "1: 5\n",
      "2: 6\n",
      "3: 4\n",
      "4: 7\n",
      "5: 3\n",
      "25 odd \n",
      "\n",
      "18 even \n",
      "\n",
      "12 even \n",
      "\n",
      "35 odd \n",
      "\n",
      "15 odd \n",
      "\n"
     ]
    }
   ],
   "source": [
    "#4.\tWrite a program to input 5 numbers and multiple even number by 3 and odd numbers by 5\n",
    "try:\n",
    "    n1 = int(input(\"1: \"))\n",
    "    n2 = int(input(\"2: \"))\n",
    "    n3 = int(input(\"3: \"))\n",
    "    n4 = int(input(\"4: \"))\n",
    "    n5 = int(input(\"5: \"))\n",
    "    if(n1%2==0):\n",
    "        print(str(n1*3)+\" even \\n\" )\n",
    "    else:\n",
    "        print(str(n1*5)+\" odd \\n\")\n",
    "    if(n2%2==0):\n",
    "        print(str(n2*3)+\" even \\n\")\n",
    "    else:\n",
    "        print(str(n2*5)+\" odd \\n\")\n",
    "    if(n3%2==0):\n",
    "        print(str(n3*3)+\" even \\n\")\n",
    "    else:\n",
    "        print(str(n3*5)+\" odd \\n\")\n",
    "    if(n4%2==0):\n",
    "        print(str(n4*3)+\" even \\n\")\n",
    "    else:\n",
    "        print(str(n4*5)+\" odd \\n\") \n",
    "    if(n5 %2 ==0):\n",
    "        print(str(n5*3)+\" even \\n\")\n",
    "    else:\n",
    "        print(str(n5*5)+\" odd \\n\")\n",
    "except:\n",
    "    print(\"Invalid input\")\n",
    "        \n",
    "    "
   ]
  },
  {
   "cell_type": "code",
   "execution_count": 7,
   "metadata": {},
   "outputs": [
    {
     "name": "stdout",
     "output_type": "stream",
     "text": [
      "enter no. 1\n",
      "enter no. 2\n",
      "enter no. 3\n",
      "enter no. 4\n",
      "enter no. 5\n",
      "[1, 2, 3, 4, 5]\n",
      "mean :3.0\n",
      " sd : 1.4142135623730951\n",
      "var : 2.0\n",
      "Range 1= 0.1715728752538097 Range2= 5.82842712474619\n",
      "In Range 1\n",
      "In Range 2\n",
      "In Range 3\n",
      "In Range 4\n",
      "In Range 5\n"
     ]
    }
   ],
   "source": [
    "#5.\t Write a program to input 15 numbers:\n",
    "#a.\tFind the average\n",
    "#b.\tStandard deviation\n",
    "#c.\tVariance\n",
    "#e.\tCheck if any of the numbers are >  or < (2 * sd) from the mean and print those numbers\n",
    "# Every input should be a valid number in the range > 0 and < 9999\n",
    "\n",
    "import math\n",
    "try:\n",
    "    a = []\n",
    "    for i in range(5):\n",
    "        a1= int(input(\"enter no. \"))\n",
    "        a.append(a1)\n",
    "    print(a)\n",
    "    mean =0\n",
    "    sum = 0\n",
    "    for i in range(len(a)):\n",
    "        sum = sum + a[i]\n",
    "    mean = sum/len(a)\n",
    "    print(\"mean :\" +str(mean))\n",
    "    sd = 0\n",
    "    s =[]\n",
    "    a1 =0\n",
    "    for i in range(len(a)):\n",
    "        a1 = ((a[i]-mean)**2)\n",
    "        s.append(a1)\n",
    "    sum =0\n",
    "    for i in range(len(s)):\n",
    "        sum = sum + s[i]\n",
    "    var = sum/len(s)\n",
    "    sd = math.sqrt(var)\n",
    "    print(\" sd :\", sd)\n",
    "    print(\"var :\",var)\n",
    "    range1 = mean - (2 * sd)\n",
    "    range2 = mean + (2 * sd)\n",
    "    print(\"Range 1=\", range1, \"Range2=\", range2)\n",
    "    for i in a:\n",
    "        if ((i>range1) and (i<range2)):\n",
    "            print('In Range',i)\n",
    "        else:\n",
    "            print('Out of range' ,i)\n",
    "except:\n",
    "    print(\"Invalid Input\")\n",
    "    \n"
   ]
  },
  {
   "cell_type": "code",
   "execution_count": 10,
   "metadata": {},
   "outputs": [
    {
     "name": "stdout",
     "output_type": "stream",
     "text": [
      "Enter first value   4\n",
      "Enter second value   8\n",
      "select the operator : \n",
      " '+' (Addition) \n",
      " '-'(Subtraction) \n",
      " '/'(Divide) \n",
      " '**'(Exponent) \n",
      " '*'(Multiply)\n",
      "Enter the operator/\n",
      "The result after division is 0.5\n"
     ]
    }
   ],
   "source": [
    "#6.\tWrite a program to implement a calculator:\n",
    "#a.\tInput 2 values and an operation to be performed\n",
    "#b.\tValid entries for operations is:\n",
    "#i.\t+ (if   both values are numbers are numeric add else concatenate)\n",
    "#ii.\t–\n",
    "#iii.\t* (if both are numeric multiply, if one of them is numeric and other a character replicate the character\n",
    "#iv.\t/\n",
    "#v.\t//\n",
    "#vi.\t**\n",
    "\n",
    "a = input(\"Enter first value   \")\n",
    "b = input(\"Enter second value   \")\n",
    "print(\"select the operator : \\n '+' (Addition) \\n '-'(Subtraction) \\n '/'(Divide) \\n '**'(Exponent) \\n '*'(Multiply)\")\n",
    "c = input(\"Enter the operator\")\n",
    "try:\n",
    "    a1 = int(a)\n",
    "    b1 = int(b)\n",
    "    if(c=='+'):\n",
    "        print(\"The sum is \" +str(a1+b1))\n",
    "    if(c=='*'):\n",
    "        print(\"The multiplication result is \" +str(a1*b1))\n",
    "    if(c=='-'):\n",
    "        print(\"The difference is \" +str(a1-b1))\n",
    "    if(c=='/'):\n",
    "        print(\"The result after division is \" +str(a1/b1))\n",
    "    if(c=='//'):\n",
    "        print(\"The modulus is \" +str(a1//b1))\n",
    "    if(c=='**'):\n",
    "        print(\"The exponent is \" +str(a1**b1))\n",
    "except:\n",
    "    if(c=='+'):\n",
    "        print(\"The concat is\" +(a+b))\n",
    "    try:\n",
    "        a1=int(a)\n",
    "        if(c=='*'):\n",
    "            print(\"The str function: \"+str(b*a1))\n",
    "    except:\n",
    "        if(c=='*'):\n",
    "            b1=int(b)\n",
    "            print(\"the str function: \"+str(a*b1))\n",
    "        \n",
    "    \n"
   ]
  }
 ],
 "metadata": {
  "kernelspec": {
   "display_name": "Python 3",
   "language": "python",
   "name": "python3"
  },
  "language_info": {
   "codemirror_mode": {
    "name": "ipython",
    "version": 3
   },
   "file_extension": ".py",
   "mimetype": "text/x-python",
   "name": "python",
   "nbconvert_exporter": "python",
   "pygments_lexer": "ipython3",
   "version": "3.6.4"
  }
 },
 "nbformat": 4,
 "nbformat_minor": 2
}
